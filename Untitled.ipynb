{
 "cells": [
  {
   "cell_type": "code",
   "execution_count": 1,
   "id": "3381e98d",
   "metadata": {},
   "outputs": [],
   "source": [
    "class Queue:\n",
    "    \n",
    "    def __init__(self):\n",
    "        self.items = []\n",
    "        \n",
    "    def isEmpty(self):\n",
    "        return self.items == []\n",
    "    \n",
    "    def enqueue(self, item):\n",
    "        self.items.insert(0, item)\n",
    "        \n",
    "    def dequeue(self):\n",
    "        return self.items.pop()\n",
    "    \n",
    "    def size(self):\n",
    "        return len(self.items)"
   ]
  },
  {
   "cell_type": "code",
   "execution_count": 4,
   "id": "d2e86767",
   "metadata": {},
   "outputs": [],
   "source": [
    "def hotPotato(namelis, num):\n",
    "    queue = Queue()\n",
    "    for name in namelis:\n",
    "        queue.enqueue(name)\n",
    "            \n",
    "    while queue.size() > 1:\n",
    "        for i in range(num):\n",
    "            queue.enqueue(queue.dequeue())\n",
    "            \n",
    "        queue.dequeue()\n",
    "    return queue.dequeue()"
   ]
  },
  {
   "cell_type": "code",
   "execution_count": 5,
   "id": "007fb602",
   "metadata": {
    "scrolled": true
   },
   "outputs": [
    {
     "data": {
      "text/plain": [
       "'Susan'"
      ]
     },
     "execution_count": 5,
     "metadata": {},
     "output_type": "execute_result"
    }
   ],
   "source": [
    "hotPotato([\"Bill\",\"David\",\"Susan\",\"Jane\",\"Kent\",\"Hrad\"],7)"
   ]
  },
  {
   "cell_type": "code",
   "execution_count": 2,
   "id": "0ffc95a6",
   "metadata": {},
   "outputs": [],
   "source": [
    "l = [1, 2, 3, 4]"
   ]
  },
  {
   "cell_type": "code",
   "execution_count": 14,
   "id": "8642dfa6",
   "metadata": {},
   "outputs": [],
   "source": [
    "l.sort(reverse=True)\n"
   ]
  },
  {
   "cell_type": "code",
   "execution_count": 15,
   "id": "d3a9127d",
   "metadata": {},
   "outputs": [
    {
     "data": {
      "text/plain": [
       "[4, 3, 2, 1]"
      ]
     },
     "execution_count": 15,
     "metadata": {},
     "output_type": "execute_result"
    }
   ],
   "source": [
    "l"
   ]
  },
  {
   "cell_type": "markdown",
   "id": "231dfe89",
   "metadata": {},
   "source": [
    "$\\(\\frac {20\\ tasks}{1\\ hour} \\times \\frac {1\\ hour} {60\\ minutes} \\times \\frac {1\\ minute} {60\\ seconds}=\\frac {1\\ task} {180\\ seconds}\\)$"
   ]
  }
 ],
 "metadata": {
  "kernelspec": {
   "display_name": "Python 3 (ipykernel)",
   "language": "python",
   "name": "python3"
  },
  "language_info": {
   "codemirror_mode": {
    "name": "ipython",
    "version": 3
   },
   "file_extension": ".py",
   "mimetype": "text/x-python",
   "name": "python",
   "nbconvert_exporter": "python",
   "pygments_lexer": "ipython3",
   "version": "3.11.5"
  }
 },
 "nbformat": 4,
 "nbformat_minor": 5
}
