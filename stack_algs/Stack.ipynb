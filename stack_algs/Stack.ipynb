{
 "cells": [
  {
   "cell_type": "markdown",
   "id": "23e58632",
   "metadata": {},
   "source": [
    "# Реализация Стека + пара примеров на решение задач"
   ]
  },
  {
   "cell_type": "code",
   "execution_count": 1,
   "id": "7a8101b0",
   "metadata": {},
   "outputs": [],
   "source": [
    "# Реализация своего АТД стек.\n",
    "\n",
    "\n",
    "class Stack:\n",
    "    \n",
    "    def __init__(self, *args):\n",
    "        self.items = [*args]\n",
    "        \n",
    "    def isEmpty(self):\n",
    "        return self.items == []\n",
    "    \n",
    "    def push(self, item): \n",
    "        self.items.append(item)\n",
    "        \n",
    "    def pop(self):\n",
    "        return self.items.pop()\n",
    "        \n",
    "    def peek(self):\n",
    "        return self.items[len(self.items)-1]\n",
    "    \n",
    "    def size(self):\n",
    "        return len(self.items)\n",
    "    \n",
    "    def show(self):\n",
    "        print(self.items)"
   ]
  },
  {
   "cell_type": "code",
   "execution_count": 73,
   "id": "f23e2adb",
   "metadata": {},
   "outputs": [
    {
     "name": "stdout",
     "output_type": "stream",
     "text": [
      "(2)+((3))\n",
      "Yes\n"
     ]
    }
   ],
   "source": [
    "s = input()\n",
    "\n",
    "stack = Stack()\n",
    "flag = True\n",
    "for i in s:\n",
    "    if i in '([{':\n",
    "        stack.push(i)\n",
    "    elif i in ')]}':\n",
    "        open_bracket = stack.pop()\n",
    "        \n",
    "        if open_bracket == '(' and i == ')':\n",
    "            continue\n",
    "        if open_bracket == '[' and i == ']':\n",
    "            continue\n",
    "        if open_bracket == '{' and i == '}':\n",
    "            continue\n",
    "        flag = False\n",
    "        break\n",
    "if flag and stack.isEmpty():      \n",
    "    print('Yes')\n",
    "else:\n",
    "    print('No')\n",
    "        "
   ]
  },
  {
   "cell_type": "code",
   "execution_count": 85,
   "id": "eac3dd9d",
   "metadata": {},
   "outputs": [],
   "source": [
    "def devided2(number: int):\n",
    "    \n",
    "    stack = Stack()\n",
    "    \n",
    "    while number != 0:\n",
    "        rem = number % 2\n",
    "        stack.push(rem)\n",
    "        number = number // 2\n",
    "    binString = ''\n",
    "    \n",
    "    while not stack.isEmpty():\n",
    "        binString += str(stack.pop())\n",
    "        \n",
    "    return int(binString)"
   ]
  },
  {
   "cell_type": "code",
   "execution_count": 37,
   "id": "1a1138e8",
   "metadata": {},
   "outputs": [
    {
     "data": {
      "text/plain": [
       "'/a/a'"
      ]
     },
     "execution_count": 37,
     "metadata": {},
     "output_type": "execute_result"
    }
   ],
   "source": [
    "stack = []\n",
    "path = [i for i in '/a/b/.././/a'.split('/') if i]\n",
    "\n",
    "for elem in path:\n",
    "    if len(stack) != 0 and elem == '..':\n",
    "        stack.pop()\n",
    "    elif elem not in ['.', '..']:\n",
    "        stack.append(elem)\n",
    "\n",
    "'/' + '/'.join(stack)\n"
   ]
  },
  {
   "cell_type": "code",
   "execution_count": 14,
   "id": "051d57e7",
   "metadata": {},
   "outputs": [],
   "source": [
    "def dailyTemperatures(temperatures: list[int]) -> list[int]:\n",
    "        stack = [] # pair (temp, index)\n",
    "        answer = [0] * len(temperatures)\n",
    "        \n",
    "        for i, temp in enumerate(temperatures):\n",
    "            if not stack or stack[-1][0] >= temperatures[-1-i]:\n",
    "                stack.append([temp, -1-i])\n",
    "        return stack"
   ]
  },
  {
   "cell_type": "code",
   "execution_count": 15,
   "id": "44018f75",
   "metadata": {},
   "outputs": [
    {
     "data": {
      "text/plain": [
       "[[30, -1], [60, -4]]"
      ]
     },
     "execution_count": 15,
     "metadata": {},
     "output_type": "execute_result"
    }
   ],
   "source": [
    "dailyTemperatures([30,40,50,60])"
   ]
  },
  {
   "cell_type": "code",
   "execution_count": null,
   "id": "8effb07b",
   "metadata": {},
   "outputs": [],
   "source": []
  },
  {
   "cell_type": "code",
   "execution_count": null,
   "id": "d10b7705",
   "metadata": {},
   "outputs": [],
   "source": []
  }
 ],
 "metadata": {
  "kernelspec": {
   "display_name": "Python 3 (ipykernel)",
   "language": "python",
   "name": "python3"
  },
  "language_info": {
   "codemirror_mode": {
    "name": "ipython",
    "version": 3
   },
   "file_extension": ".py",
   "mimetype": "text/x-python",
   "name": "python",
   "nbconvert_exporter": "python",
   "pygments_lexer": "ipython3",
   "version": "3.11.5"
  }
 },
 "nbformat": 4,
 "nbformat_minor": 5
}
